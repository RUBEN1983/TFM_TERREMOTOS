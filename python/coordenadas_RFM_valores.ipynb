{
 "cells": [
  {
   "cell_type": "code",
   "execution_count": 3,
   "metadata": {
    "collapsed": false
   },
   "outputs": [
    {
     "data": {
      "text/html": [
       "<div>\n",
       "<table border=\"1\" class=\"dataframe\">\n",
       "  <thead>\n",
       "    <tr style=\"text-align: right;\">\n",
       "      <th></th>\n",
       "      <th>magnitude</th>\n",
       "      <th>date</th>\n",
       "      <th>coordenadas</th>\n",
       "    </tr>\n",
       "  </thead>\n",
       "  <tbody>\n",
       "    <tr>\n",
       "      <th>0</th>\n",
       "      <td>3.3</td>\n",
       "      <td>1998-01-01</td>\n",
       "      <td>37,26</td>\n",
       "    </tr>\n",
       "    <tr>\n",
       "      <th>1</th>\n",
       "      <td>3.3</td>\n",
       "      <td>1998-01-01</td>\n",
       "      <td>40,19</td>\n",
       "    </tr>\n",
       "    <tr>\n",
       "      <th>2</th>\n",
       "      <td>3.3</td>\n",
       "      <td>1998-01-01</td>\n",
       "      <td>37,20</td>\n",
       "    </tr>\n",
       "    <tr>\n",
       "      <th>3</th>\n",
       "      <td>3.1</td>\n",
       "      <td>1998-01-01</td>\n",
       "      <td>37,14</td>\n",
       "    </tr>\n",
       "    <tr>\n",
       "      <th>4</th>\n",
       "      <td>3.1</td>\n",
       "      <td>1998-01-01</td>\n",
       "      <td>38,21</td>\n",
       "    </tr>\n",
       "  </tbody>\n",
       "</table>\n",
       "</div>"
      ],
      "text/plain": [
       "   magnitude        date coordenadas\n",
       "0        3.3  1998-01-01       37,26\n",
       "1        3.3  1998-01-01       40,19\n",
       "2        3.3  1998-01-01       37,20\n",
       "3        3.1  1998-01-01       37,14\n",
       "4        3.1  1998-01-01       38,21"
      ]
     },
     "execution_count": 3,
     "metadata": {},
     "output_type": "execute_result"
    }
   ],
   "source": [
    "####Preparacion para algoritmo RFM con los valores de terremotos\n",
    "import pandas as pd\n",
    "\n",
    "###Importamos del DF terremotos las columnas coordenadas, date y magnitude\n",
    "terremotos_RFM = pd.read_csv(\"terremotos_long.csv.bz2\", usecols=['coordenadas','date','magnitude'], sep=';')\n",
    "terremotos_RFM.head()"
   ]
  },
  {
   "cell_type": "code",
   "execution_count": 4,
   "metadata": {
    "collapsed": true
   },
   "outputs": [],
   "source": [
    "###Guardamos el DF en el fichero 'coordenadas_RFM_valores.csv'\n",
    "terremotos_RFM.to_csv('../files/coordenadas_RFM_valores.csv', sep=';')"
   ]
  }
 ],
 "metadata": {
  "kernelspec": {
   "display_name": "Python 2",
   "language": "python",
   "name": "python2"
  },
  "language_info": {
   "codemirror_mode": {
    "name": "ipython",
    "version": 2
   },
   "file_extension": ".py",
   "mimetype": "text/x-python",
   "name": "python",
   "nbconvert_exporter": "python",
   "pygments_lexer": "ipython2",
   "version": "2.7.11"
  }
 },
 "nbformat": 4,
 "nbformat_minor": 0
}
