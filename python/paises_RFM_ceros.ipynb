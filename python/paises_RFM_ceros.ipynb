{
 "cells": [
  {
   "cell_type": "code",
   "execution_count": 8,
   "metadata": {
    "collapsed": true
   },
   "outputs": [],
   "source": [
    "##Importamos libreria pandas\n",
    "import pandas as pd"
   ]
  },
  {
   "cell_type": "code",
   "execution_count": 9,
   "metadata": {
    "collapsed": false
   },
   "outputs": [],
   "source": [
    "##Función para poner a mayúsculas un texto\n",
    "def mayusculas(cadena):\n",
    "    return cadena.upper()\n",
    "\n",
    "##Leemos archivo con los países del mundo\n",
    "paises = pd.read_csv('../files/paises.csv',sep=';')\n",
    "\n",
    "##Eliminamos espacios en los nombre de columnas\n",
    "paises.columns = paises.columns.str.strip()\n",
    "##Ponemos en mayúsculas los nombres de países\n",
    "paises['name']= paises['name'].apply(mayusculas)\n",
    "\n",
    "##Eliminamos las columnas que no vamos a utilizar\n",
    "paises = paises.drop(labels=\"nombre\", axis=1)\n",
    "paises = paises.drop(labels=\"nom\", axis=1)\n",
    "paises = paises.drop(labels=\"iso2\", axis=1)\n",
    "paises = paises.drop(labels=\"iso3\", axis=1)\n",
    "paises = paises.drop(labels=\"phone_code\", axis=1)"
   ]
  },
  {
   "cell_type": "code",
   "execution_count": 10,
   "metadata": {
    "collapsed": false
   },
   "outputs": [
    {
     "data": {
      "text/html": [
       "<div>\n",
       "<table border=\"1\" class=\"dataframe\">\n",
       "  <thead>\n",
       "    <tr style=\"text-align: right;\">\n",
       "      <th></th>\n",
       "      <th>name</th>\n",
       "      <th>RECENCIA</th>\n",
       "      <th>FRECUENCIA</th>\n",
       "      <th>MAGNITUD</th>\n",
       "    </tr>\n",
       "  </thead>\n",
       "  <tbody>\n",
       "    <tr>\n",
       "      <th>0</th>\n",
       "      <td>AFGHANISTAN</td>\n",
       "      <td>0</td>\n",
       "      <td>0</td>\n",
       "      <td>0</td>\n",
       "    </tr>\n",
       "    <tr>\n",
       "      <th>1</th>\n",
       "      <td>ALBANIA</td>\n",
       "      <td>0</td>\n",
       "      <td>0</td>\n",
       "      <td>0</td>\n",
       "    </tr>\n",
       "    <tr>\n",
       "      <th>2</th>\n",
       "      <td>GERMANY</td>\n",
       "      <td>0</td>\n",
       "      <td>0</td>\n",
       "      <td>0</td>\n",
       "    </tr>\n",
       "    <tr>\n",
       "      <th>3</th>\n",
       "      <td>ALGERIA</td>\n",
       "      <td>0</td>\n",
       "      <td>0</td>\n",
       "      <td>0</td>\n",
       "    </tr>\n",
       "    <tr>\n",
       "      <th>4</th>\n",
       "      <td>ANDORRA</td>\n",
       "      <td>0</td>\n",
       "      <td>0</td>\n",
       "      <td>0</td>\n",
       "    </tr>\n",
       "  </tbody>\n",
       "</table>\n",
       "</div>"
      ],
      "text/plain": [
       "          name  RECENCIA  FRECUENCIA  MAGNITUD\n",
       "0  AFGHANISTAN         0           0         0\n",
       "1      ALBANIA         0           0         0\n",
       "2      GERMANY         0           0         0\n",
       "3      ALGERIA         0           0         0\n",
       "4      ANDORRA         0           0         0"
      ]
     },
     "execution_count": 10,
     "metadata": {},
     "output_type": "execute_result"
    }
   ],
   "source": [
    "##Creamos las columnas de Recencia, Frecuencia y Magnitud\n",
    "paises['RECENCIA'] = 0\n",
    "paises['FRECUENCIA'] = 0\n",
    "paises['MAGNITUD'] = 0\n",
    "paises.head()"
   ]
  },
  {
   "cell_type": "code",
   "execution_count": 11,
   "metadata": {
    "collapsed": true
   },
   "outputs": [],
   "source": [
    "##Guardamos el DF de ceros en 'paises_RFM_ceros.csv'\n",
    "paises.to_csv('../files/paises_RFM_ceros.csv',sep=';')"
   ]
  }
 ],
 "metadata": {
  "kernelspec": {
   "display_name": "Python 2",
   "language": "python",
   "name": "python2"
  },
  "language_info": {
   "codemirror_mode": {
    "name": "ipython",
    "version": 2
   },
   "file_extension": ".py",
   "mimetype": "text/x-python",
   "name": "python",
   "nbconvert_exporter": "python",
   "pygments_lexer": "ipython2",
   "version": "2.7.11"
  }
 },
 "nbformat": 4,
 "nbformat_minor": 0
}
